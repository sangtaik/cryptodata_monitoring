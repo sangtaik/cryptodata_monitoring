{
 "cells": [
  {
   "cell_type": "code",
   "execution_count": 9,
   "id": "daaa98d7",
   "metadata": {},
   "outputs": [
    {
     "name": "stdout",
     "output_type": "stream",
     "text": [
      "Requirement already satisfied: fastapi in c:\\programdata\\anaconda3\\lib\\site-packages (0.115.12)\n",
      "Requirement already satisfied: starlette<0.47.0,>=0.40.0 in c:\\programdata\\anaconda3\\lib\\site-packages (from fastapi) (0.46.1)\n",
      "Requirement already satisfied: pydantic!=1.8,!=1.8.1,!=2.0.0,!=2.0.1,!=2.1.0,<3.0.0,>=1.7.4 in c:\\programdata\\anaconda3\\lib\\site-packages (from fastapi) (2.11.2)\n",
      "Requirement already satisfied: typing-extensions>=4.8.0 in c:\\programdata\\anaconda3\\lib\\site-packages (from fastapi) (4.13.1)\n",
      "Requirement already satisfied: pydantic-core==2.33.1 in c:\\programdata\\anaconda3\\lib\\site-packages (from pydantic!=1.8,!=1.8.1,!=2.0.0,!=2.0.1,!=2.1.0,<3.0.0,>=1.7.4->fastapi) (2.33.1)\n",
      "Requirement already satisfied: annotated-types>=0.6.0 in c:\\programdata\\anaconda3\\lib\\site-packages (from pydantic!=1.8,!=1.8.1,!=2.0.0,!=2.0.1,!=2.1.0,<3.0.0,>=1.7.4->fastapi) (0.7.0)\n",
      "Requirement already satisfied: typing-inspection>=0.4.0 in c:\\programdata\\anaconda3\\lib\\site-packages (from pydantic!=1.8,!=1.8.1,!=2.0.0,!=2.0.1,!=2.1.0,<3.0.0,>=1.7.4->fastapi) (0.4.0)\n",
      "Requirement already satisfied: anyio<5,>=3.6.2 in c:\\programdata\\anaconda3\\lib\\site-packages (from starlette<0.47.0,>=0.40.0->fastapi) (4.9.0)\n",
      "Requirement already satisfied: sniffio>=1.1 in c:\\programdata\\anaconda3\\lib\\site-packages (from anyio<5,>=3.6.2->starlette<0.47.0,>=0.40.0->fastapi) (1.2.0)\n",
      "Requirement already satisfied: exceptiongroup>=1.0.2 in c:\\programdata\\anaconda3\\lib\\site-packages (from anyio<5,>=3.6.2->starlette<0.47.0,>=0.40.0->fastapi) (1.2.2)\n",
      "Requirement already satisfied: idna>=2.8 in c:\\programdata\\anaconda3\\lib\\site-packages (from anyio<5,>=3.6.2->starlette<0.47.0,>=0.40.0->fastapi) (3.2)\n",
      "\n",
      "[notice] A new release of pip available: 22.1.2 -> 25.0.1\n",
      "[notice] To update, run: python.exe -m pip install --upgrade pip\n",
      "Note: you may need to restart the kernel to use updated packages.\n"
     ]
    }
   ],
   "source": [
    "pip install fastapi"
   ]
  },
  {
   "cell_type": "code",
   "execution_count": 10,
   "id": "e99fa3f6",
   "metadata": {},
   "outputs": [
    {
     "name": "stdout",
     "output_type": "stream",
     "text": [
      "Requirement already satisfied: python-multipart in c:\\programdata\\anaconda3\\lib\\site-packages (0.0.20)\n",
      "\n",
      "[notice] A new release of pip available: 22.1.2 -> 25.0.1\n",
      "[notice] To update, run: python.exe -m pip install --upgrade pip\n",
      "Note: you may need to restart the kernel to use updated packages.\n"
     ]
    }
   ],
   "source": [
    "pip install python-multipart"
   ]
  },
  {
   "cell_type": "code",
   "execution_count": 15,
   "id": "b83298cb",
   "metadata": {},
   "outputs": [],
   "source": [
    "#from fastapi import FastAPI, Request, Form\n",
    "from contextlib import asynccontextmanager\n",
    "from fastapi import FastAPI\n",
    "from fastapi.responses import HTMLResponse, RedirectResponse\n",
    "from fastapi.templating import Jinja2Templates\n",
    "from threading import Thread"
   ]
  },
  {
   "cell_type": "code",
   "execution_count": 16,
   "id": "0f64a3bc",
   "metadata": {},
   "outputs": [],
   "source": [
    "from datetime import datetime\n",
    "import json, time, random\n",
    "import logging"
   ]
  },
  {
   "cell_type": "code",
   "execution_count": 27,
   "id": "cf71a6a9",
   "metadata": {},
   "outputs": [],
   "source": [
    "templates = Jinja2Templates(directory=\"templates/\")\n",
    "\n",
    "def status_updater():\n",
    "    \"\"\"Background thread function to update exchange statuses and timestamps.\"\"\"\n",
    "    while True:\n",
    "        for ex, info in list(status_info.items()):\n",
    "            if info[\"status\"] == \"Running\":\n",
    "                # Update last-updated timestamp for running collectors\n",
    "                info[\"last_updated\"] = datetime.now().strftime(\"%Y-%m-%d %H:%M:%S\")\n",
    "            # Randomly simulate an error state (~10% chance each cycle)\n",
    "            if random.random() < 0.1:\n",
    "                info[\"status\"] = \"Error\" if info[\"status\"] == \"Running\" else \"Running\"\n",
    "        time.sleep(5)  # wait 5 seconds before next update cycle\n",
    "\n",
    "@app.get(\"/\", response_class=HTMLResponse)\n",
    "def show_dashboard(request: Request, q: str = None):\n",
    "    \"\"\"Dashboard page showing ticker list and status table. Supports optional search query.\"\"\"\n",
    "    # Read the latest tickers list from file\n",
    "    try:\n",
    "        with open(\"tickers.json\", \"r\") as f:\n",
    "            tickers = json.load(f)\n",
    "    except FileNotFoundError:\n",
    "        tickers = []\n",
    "    # If a search query is provided, filter the tickers\n",
    "    if q:\n",
    "        query = q.lower()\n",
    "        tickers = [t for t in tickers \n",
    "                   if query in t[\"exchange\"].lower() or query in t[\"ticker\"].lower()]\n",
    "    # Sort tickers by exchange then ticker for display order\n",
    "    tickers.sort(key=lambda x: (x[\"exchange\"], x[\"ticker\"]))\n",
    "    # Render the HTML template with tickers and status information\n",
    "    return templates.TemplateResponse(\"index.html\", {\n",
    "        \"request\": request,\n",
    "        \"tickers\": tickers,\n",
    "        \"status_info\": status_info,\n",
    "        \"query\": q\n",
    "    })\n",
    "\n",
    "@app.post(\"/add\")\n",
    "def add_ticker(exchange: str = Form(...), ticker: str = Form(...)):\n",
    "    \"\"\"Handle the form submission to add a new ticker to the tracking list.\"\"\"\n",
    "    # Load current tickers from file\n",
    "    try:\n",
    "        with open(\"tickers.json\", \"r\") as f:\n",
    "            tickers = json.load(f)\n",
    "    except FileNotFoundError:\n",
    "        tickers = []\n",
    "    # Avoid duplicates: check if this exchange/ticker combo is already tracked\n",
    "    exists = any(t.get(\"exchange\") == exchange and t.get(\"ticker\") == ticker for t in tickers)\n",
    "    if not exists:\n",
    "        tickers.append({ \"exchange\": exchange, \"ticker\": ticker })\n",
    "        tickers.sort(key=lambda x: (x[\"exchange\"], x[\"ticker\"]))\n",
    "        # Save updated list back to JSON file\n",
    "        with open(\"tickers.json\", \"w\") as f:\n",
    "            json.dump(tickers, f, indent=4)\n",
    "        # If this exchange is new, initialize its status info\n",
    "        if exchange not in status_info:\n",
    "            status_info[exchange] = {\n",
    "                \"status\": \"Running\",\n",
    "                \"last_updated\": datetime.now().strftime(\"%Y-%m-%d %H:%M:%S\")\n",
    "            }\n",
    "    # Redirect back to the main dashboard (POST/Redirect/GET pattern)\n",
    "    return RedirectResponse(url=\"/\", status_code=303)\n",
    "\n",
    "@app.post(\"/delete\")\n",
    "def delete_ticker(exchange: str = Form(...), ticker: str = Form(...)):\n",
    "    \"\"\"Handle the deletion of a ticker from the tracking list.\"\"\"\n",
    "    # Load current tickers from file\n",
    "    try:\n",
    "        with open(\"tickers.json\", \"r\") as f:\n",
    "            tickers = json.load(f)\n",
    "    except FileNotFoundError:\n",
    "        tickers = []\n",
    "    # Remove the specified ticker (if it exists in the list)\n",
    "    tickers = [t for t in tickers if not (t.get(\"exchange\") == exchange and t.get(\"ticker\") == ticker)]\n",
    "    tickers.sort(key=lambda x: (x[\"exchange\"], x[\"ticker\"]))\n",
    "    # Save the pruned list back to JSON\n",
    "    with open(\"tickers.json\", \"w\") as f:\n",
    "        json.dump(tickers, f, indent=4)\n",
    "    # If the exchange has no more tickers, remove it from status tracking\n",
    "    remaining_exchanges = { t[\"exchange\"] for t in tickers }\n",
    "    if exchange not in remaining_exchanges:\n",
    "        status_info.pop(exchange, None)\n",
    "    return RedirectResponse(url=\"/\", status_code=303)\n"
   ]
  },
  {
   "cell_type": "code",
   "execution_count": 28,
   "id": "36a1a684",
   "metadata": {},
   "outputs": [],
   "source": [
    "# 에러 핸들러 등록\n",
    "@app.exception_handler(Exception)\n",
    "async def global_exception_handler(request: Request, exc: Exception):\n",
    "    log.error(f\"❗ Error occurred: {exc}\")\n",
    "    # 예외 발생 시 자동으로 로그 남기고, 사용자에게는 500 응답\n",
    "    return JSONResponse(status_code=500, content={\"detail\": \"Internal Server Error\"})"
   ]
  },
  {
   "cell_type": "code",
   "execution_count": 20,
   "id": "70e36d4f",
   "metadata": {},
   "outputs": [
    {
     "name": "stdout",
     "output_type": "stream",
     "text": [
      "Requirement already satisfied: nest_asyncio in c:\\programdata\\anaconda3\\lib\\site-packages (1.5.1)\n",
      "\n",
      "[notice] A new release of pip available: 22.1.2 -> 25.0.1\n",
      "[notice] To update, run: python.exe -m pip install --upgrade pip\n",
      "Note: you may need to restart the kernel to use updated packages.\n"
     ]
    }
   ],
   "source": [
    "pip install nest_asyncio"
   ]
  },
  {
   "cell_type": "code",
   "execution_count": 22,
   "id": "a723f921",
   "metadata": {},
   "outputs": [
    {
     "name": "stdout",
     "output_type": "stream",
     "text": [
      "Collecting uvicorn\n",
      "  Downloading uvicorn-0.34.0-py3-none-any.whl (62 kB)\n",
      "     ---------------------------------------- 62.3/62.3 kB 3.3 MB/s eta 0:00:00\n",
      "Requirement already satisfied: typing-extensions>=4.0 in c:\\programdata\\anaconda3\\lib\\site-packages (from uvicorn) (4.13.1)\n",
      "Collecting h11>=0.8\n",
      "  Downloading h11-0.14.0-py3-none-any.whl (58 kB)\n",
      "     ---------------------------------------- 58.3/58.3 kB ? eta 0:00:00\n",
      "Requirement already satisfied: click>=7.0 in c:\\programdata\\anaconda3\\lib\\site-packages (from uvicorn) (7.1.2)\n",
      "Installing collected packages: h11, uvicorn\n",
      "Successfully installed h11-0.14.0 uvicorn-0.34.0\n",
      "\n",
      "[notice] A new release of pip available: 22.1.2 -> 25.0.1\n",
      "[notice] To update, run: python.exe -m pip install --upgrade pip\n",
      "Note: you may need to restart the kernel to use updated packages.\n"
     ]
    }
   ],
   "source": [
    "pip install uvicorn"
   ]
  },
  {
   "cell_type": "code",
   "execution_count": 29,
   "id": "f2cd3272",
   "metadata": {},
   "outputs": [],
   "source": [
    "# jupyter 실행 시 필요\n",
    "import nest_asyncio\n",
    "import uvicorn"
   ]
  },
  {
   "cell_type": "code",
   "execution_count": 31,
   "id": "5109e44e",
   "metadata": {},
   "outputs": [
    {
     "name": "stderr",
     "output_type": "stream",
     "text": [
      "INFO:     Started server process [26276]\n",
      "INFO:     Waiting for application startup.\n",
      "INFO:     Application startup complete.\n",
      "INFO:     Uvicorn running on http://127.0.0.1:8000 (Press CTRL+C to quit)\n",
      "INFO:     Shutting down\n",
      "INFO:     Waiting for application shutdown.\n",
      "INFO:     Application shutdown complete.\n",
      "INFO:     Finished server process [26276]\n"
     ]
    }
   ],
   "source": [
    "# 로그 설정\n",
    "logging.basicConfig(\n",
    "    filename=\"server.log\",\n",
    "    level=logging.INFO,\n",
    "    format=\"%(asctime)s [%(levelname)s] %(message)s\",\n",
    "    encoding=\"utf-8\"\n",
    ")\n",
    "log = logging.getLogger(__name__)\n",
    "\n",
    "# FAST API 시작 부분 - app start 대체\n",
    "@asynccontextmanager\n",
    "async def lifespan(app: FastAPI):\n",
    "    try:\n",
    "        with open(\"tickers.json\", \"r\") as f:\n",
    "            tickers = json.load(f)\n",
    "    except FileNotFoundError:\n",
    "        tickers = []\n",
    "\n",
    "    for entry in tickers:\n",
    "        ex = entry[\"exchange\"]\n",
    "        if ex not in status_info:\n",
    "            status_info[ex] = {\n",
    "                \"status\": \"Running\",\n",
    "                \"last_updated\": datetime.now().strftime(\"%Y-%m-%d %H:%M:%S\")\n",
    "            }\n",
    "    # 앱 시작 시\n",
    "    log.info(\"✅ App started\")\n",
    "    log.info(\"✅ Starting status_updater thread\")\n",
    "            \n",
    "    thread = Thread(target=status_updater, daemon=True)\n",
    "    thread.start()\n",
    "\n",
    "    yield  # startup 이후 본격 앱 실행\n",
    "\n",
    "    # 앱 종료\n",
    "    log.info(\"🔴 App shutting down...\")\n",
    "\n",
    "# FastAPI 앱 선언 시 lifespan 추가\n",
    "app = FastAPI(lifespan=lifespan)\n",
    "\n",
    "if __name__ == \"__main__\":\n",
    "    nest_asyncio.apply()\n",
    "    uvicorn.run(app)"
   ]
  }
 ],
 "metadata": {
  "kernelspec": {
   "display_name": "Python 3 (ipykernel)",
   "language": "python",
   "name": "python3"
  },
  "language_info": {
   "codemirror_mode": {
    "name": "ipython",
    "version": 3
   },
   "file_extension": ".py",
   "mimetype": "text/x-python",
   "name": "python",
   "nbconvert_exporter": "python",
   "pygments_lexer": "ipython3",
   "version": "3.9.7"
  }
 },
 "nbformat": 4,
 "nbformat_minor": 5
}
